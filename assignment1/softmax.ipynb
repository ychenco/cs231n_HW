{
 "cells": [
  {
   "cell_type": "markdown",
   "metadata": {},
   "source": [
    "# Softmax exercise\n",
    "\n",
    "*Complete and hand in this completed worksheet (including its outputs and any supporting code outside of the worksheet) with your assignment submission. For more details see the [assignments page](http://vision.stanford.edu/teaching/cs231n/assignments.html) on the course website.*\n",
    "\n",
    "This exercise is analogous to the SVM exercise. You will:\n",
    "\n",
    "- implement a fully-vectorized **loss function** for the Softmax classifier\n",
    "- implement the fully-vectorized expression for its **analytic gradient**\n",
    "- **check your implementation** with numerical gradient\n",
    "- use a validation set to **tune the learning rate and regularization** strength\n",
    "- **optimize** the loss function with **SGD**\n",
    "- **visualize** the final learned weights\n"
   ]
  },
  {
   "cell_type": "code",
   "execution_count": 1,
   "metadata": {
    "collapsed": true
   },
   "outputs": [],
   "source": [
    "import random\n",
    "import numpy as np\n",
    "from cs231n.data_utils import load_CIFAR10\n",
    "import matplotlib.pyplot as plt\n",
    "\n",
    "from __future__ import print_function\n",
    "\n",
    "%matplotlib inline\n",
    "plt.rcParams['figure.figsize'] = (10.0, 8.0) # set default size of plots\n",
    "plt.rcParams['image.interpolation'] = 'nearest'\n",
    "plt.rcParams['image.cmap'] = 'gray'\n",
    "\n",
    "# for auto-reloading extenrnal modules\n",
    "# see http://stackoverflow.com/questions/1907993/autoreload-of-modules-in-ipython\n",
    "%load_ext autoreload\n",
    "%autoreload 2"
   ]
  },
  {
   "cell_type": "code",
   "execution_count": 2,
   "metadata": {},
   "outputs": [
    {
     "name": "stdout",
     "output_type": "stream",
     "text": [
      "Train data shape:  (49000, 3073)\n",
      "Train labels shape:  (49000,)\n",
      "Validation data shape:  (1000, 3073)\n",
      "Validation labels shape:  (1000,)\n",
      "Test data shape:  (1000, 3073)\n",
      "Test labels shape:  (1000,)\n",
      "dev data shape:  (500, 3073)\n",
      "dev labels shape:  (500,)\n"
     ]
    }
   ],
   "source": [
    "def get_CIFAR10_data(num_training=49000, num_validation=1000, num_test=1000, num_dev=500):\n",
    "    \"\"\"\n",
    "    Load the CIFAR-10 dataset from disk and perform preprocessing to prepare\n",
    "    it for the linear classifier. These are the same steps as we used for the\n",
    "    SVM, but condensed to a single function.  \n",
    "    \"\"\"\n",
    "    # Load the raw CIFAR-10 data\n",
    "    cifar10_dir = 'cs231n/datasets/cifar-10-batches-py'\n",
    "    X_train, y_train, X_test, y_test = load_CIFAR10(cifar10_dir)\n",
    "    \n",
    "    # subsample the data\n",
    "    mask = list(range(num_training, num_training + num_validation))\n",
    "    X_val = X_train[mask]\n",
    "    y_val = y_train[mask]\n",
    "    mask = list(range(num_training))\n",
    "    X_train = X_train[mask]\n",
    "    y_train = y_train[mask]\n",
    "    mask = list(range(num_test))\n",
    "    X_test = X_test[mask]\n",
    "    y_test = y_test[mask]\n",
    "    mask = np.random.choice(num_training, num_dev, replace=False)\n",
    "    X_dev = X_train[mask]\n",
    "    y_dev = y_train[mask]\n",
    "    \n",
    "    # Preprocessing: reshape the image data into rows\n",
    "    X_train = np.reshape(X_train, (X_train.shape[0], -1))\n",
    "    X_val = np.reshape(X_val, (X_val.shape[0], -1))\n",
    "    X_test = np.reshape(X_test, (X_test.shape[0], -1))\n",
    "    X_dev = np.reshape(X_dev, (X_dev.shape[0], -1))\n",
    "    \n",
    "    # Normalize the data: subtract the mean image\n",
    "    mean_image = np.mean(X_train, axis = 0)\n",
    "    X_train -= mean_image\n",
    "    X_val -= mean_image\n",
    "    X_test -= mean_image\n",
    "    X_dev -= mean_image\n",
    "    \n",
    "    # add bias dimension and transform into columns\n",
    "    X_train = np.hstack([X_train, np.ones((X_train.shape[0], 1))])\n",
    "    X_val = np.hstack([X_val, np.ones((X_val.shape[0], 1))])\n",
    "    X_test = np.hstack([X_test, np.ones((X_test.shape[0], 1))])\n",
    "    X_dev = np.hstack([X_dev, np.ones((X_dev.shape[0], 1))])\n",
    "    \n",
    "    return X_train, y_train, X_val, y_val, X_test, y_test, X_dev, y_dev\n",
    "\n",
    "\n",
    "# Invoke the above function to get our data.\n",
    "X_train, y_train, X_val, y_val, X_test, y_test, X_dev, y_dev = get_CIFAR10_data()\n",
    "print('Train data shape: ', X_train.shape)\n",
    "print('Train labels shape: ', y_train.shape)\n",
    "print('Validation data shape: ', X_val.shape)\n",
    "print('Validation labels shape: ', y_val.shape)\n",
    "print('Test data shape: ', X_test.shape)\n",
    "print('Test labels shape: ', y_test.shape)\n",
    "print('dev data shape: ', X_dev.shape)\n",
    "print('dev labels shape: ', y_dev.shape)"
   ]
  },
  {
   "cell_type": "markdown",
   "metadata": {},
   "source": [
    "## Softmax Classifier\n",
    "\n",
    "Your code for this section will all be written inside **cs231n/classifiers/softmax.py**. \n"
   ]
  },
  {
   "cell_type": "code",
   "execution_count": 6,
   "metadata": {},
   "outputs": [
    {
     "name": "stdout",
     "output_type": "stream",
     "text": [
      "loss: 2.429347\n",
      "sanity check: 2.302585\n"
     ]
    }
   ],
   "source": [
    "# First implement the naive softmax loss function with nested loops.\n",
    "# Open the file cs231n/classifiers/softmax.py and implement the\n",
    "# softmax_loss_naive function.\n",
    "\n",
    "from cs231n.classifiers.softmax import softmax_loss_naive\n",
    "import time\n",
    "\n",
    "# Generate a random softmax weight matrix and use it to compute the loss.\n",
    "W = np.random.randn(3073, 10) * 0.0001\n",
    "loss, grad = softmax_loss_naive(W, X_dev, y_dev, 0.0)\n",
    "\n",
    "# As a rough sanity check, our loss should be something close to -log(0.1).\n",
    "print('loss: %f' % loss)\n",
    "print('sanity check: %f' % (-np.log(0.1)))"
   ]
  },
  {
   "cell_type": "markdown",
   "metadata": {},
   "source": [
    "## Inline Question 1:\n",
    "Why do we expect our loss to be close to -log(0.1)? Explain briefly.**\n",
    "\n",
    "**Your answer:** We have 10 classes. By the probabilistic cross-entropy loss interpretation of Softmax, we expect the average probability of each class to be ~0.1 (they are all a priori just as likely). We're using the -log of this as our loss."
   ]
  },
  {
   "cell_type": "code",
   "execution_count": 7,
   "metadata": {},
   "outputs": [
    {
     "name": "stdout",
     "output_type": "stream",
     "text": [
      "numerical: 0.780329 analytic: 0.780329, relative error: 4.809427e-08\n",
      "numerical: 0.415061 analytic: 0.415061, relative error: 1.129566e-07\n",
      "numerical: -4.117574 analytic: -4.117574, relative error: 8.559144e-09\n",
      "numerical: -0.519405 analytic: -0.519405, relative error: 9.377356e-08\n",
      "numerical: -1.789190 analytic: -1.789190, relative error: 2.901069e-08\n",
      "numerical: 0.988421 analytic: 0.988421, relative error: 4.499626e-08\n",
      "numerical: 3.178948 analytic: 3.178948, relative error: 4.947442e-09\n",
      "numerical: 2.872197 analytic: 2.872197, relative error: 1.284858e-08\n",
      "numerical: 5.302545 analytic: 5.302545, relative error: 1.545692e-08\n",
      "numerical: 6.388007 analytic: 6.388007, relative error: 1.784392e-08\n",
      "numerical: 2.506023 analytic: 2.506023, relative error: 1.821031e-08\n",
      "numerical: -0.221530 analytic: -0.221530, relative error: 9.553780e-08\n",
      "numerical: 4.200057 analytic: 4.200057, relative error: 2.132201e-08\n",
      "numerical: -4.845641 analytic: -4.845641, relative error: 6.927676e-09\n",
      "numerical: 0.957317 analytic: 0.957316, relative error: 5.090514e-08\n",
      "numerical: 1.454739 analytic: 1.454739, relative error: 1.490210e-08\n",
      "numerical: 0.930927 analytic: 0.930927, relative error: 3.034364e-10\n",
      "numerical: -1.964904 analytic: -1.964904, relative error: 8.197506e-09\n",
      "numerical: -0.840178 analytic: -0.840178, relative error: 7.225886e-09\n",
      "numerical: 4.814788 analytic: 4.814787, relative error: 1.770603e-08\n"
     ]
    }
   ],
   "source": [
    "# Complete the implementation of softmax_loss_naive and implement a (naive)\n",
    "# version of the gradient that uses nested loops.\n",
    "loss, grad = softmax_loss_naive(W, X_dev, y_dev, 0.0)\n",
    "\n",
    "# As we did for the SVM, use numeric gradient checking as a debugging tool.\n",
    "# The numeric gradient should be close to the analytic gradient.\n",
    "from cs231n.gradient_check import grad_check_sparse\n",
    "f = lambda w: softmax_loss_naive(w, X_dev, y_dev, 0.0)[0]\n",
    "grad_numerical = grad_check_sparse(f, W, grad, 10)\n",
    "\n",
    "# similar to SVM case, do another gradient check with regularization\n",
    "loss, grad = softmax_loss_naive(W, X_dev, y_dev, 5e1)\n",
    "f = lambda w: softmax_loss_naive(w, X_dev, y_dev, 5e1)[0]\n",
    "grad_numerical = grad_check_sparse(f, W, grad, 10)"
   ]
  },
  {
   "cell_type": "code",
   "execution_count": 13,
   "metadata": {},
   "outputs": [
    {
     "name": "stdout",
     "output_type": "stream",
     "text": [
      "naive loss: 2.429347e+00 computed in 0.135732s\n",
      "vectorized loss: 2.429347e+00 computed in 0.010542s\n",
      "Loss difference: 0.000000\n",
      "Gradient difference: 0.000000\n"
     ]
    }
   ],
   "source": [
    "# Now that we have a naive implementation of the softmax loss function and its gradient,\n",
    "# implement a vectorized version in softmax_loss_vectorized.\n",
    "# The two versions should compute the same results, but the vectorized version should be\n",
    "# much faster.\n",
    "tic = time.time()\n",
    "loss_naive, grad_naive = softmax_loss_naive(W, X_dev, y_dev, 0.000005)\n",
    "toc = time.time()\n",
    "print('naive loss: %e computed in %fs' % (loss_naive, toc - tic))\n",
    "\n",
    "from cs231n.classifiers.softmax import softmax_loss_vectorized\n",
    "tic = time.time()\n",
    "loss_vectorized, grad_vectorized = softmax_loss_vectorized(W, X_dev, y_dev, 0.000005)\n",
    "toc = time.time()\n",
    "print('vectorized loss: %e computed in %fs' % (loss_vectorized, toc - tic))\n",
    "\n",
    "# As we did for the SVM, we use the Frobenius norm to compare the two versions\n",
    "# of the gradient.\n",
    "grad_difference = np.linalg.norm(grad_naive - grad_vectorized, ord='fro')\n",
    "print('Loss difference: %f' % np.abs(loss_naive - loss_vectorized))\n",
    "print('Gradient difference: %f' % grad_difference)"
   ]
  },
  {
   "cell_type": "code",
   "execution_count": 15,
   "metadata": {},
   "outputs": [
    {
     "name": "stdout",
     "output_type": "stream",
     "text": [
      "iteration 0 / 2000: loss 764.098072\n",
      "iteration 100 / 2000: loss 280.775557\n",
      "iteration 200 / 2000: loss 104.013066\n",
      "iteration 300 / 2000: loss 39.395064\n",
      "iteration 400 / 2000: loss 15.760480\n",
      "iteration 500 / 2000: loss 7.106463\n",
      "iteration 600 / 2000: loss 3.891784\n",
      "iteration 700 / 2000: loss 2.813058\n",
      "iteration 800 / 2000: loss 2.322913\n",
      "iteration 900 / 2000: loss 2.163741\n",
      "iteration 1000 / 2000: loss 2.125172\n",
      "iteration 1100 / 2000: loss 2.065181\n",
      "iteration 1200 / 2000: loss 2.082627\n",
      "iteration 1300 / 2000: loss 2.014448\n",
      "iteration 1400 / 2000: loss 2.102382\n",
      "iteration 1500 / 2000: loss 2.002150\n",
      "iteration 1600 / 2000: loss 2.069737\n",
      "iteration 1700 / 2000: loss 2.074416\n",
      "iteration 1800 / 2000: loss 2.040604\n",
      "iteration 1900 / 2000: loss 2.114207\n",
      "iteration 0 / 2000: loss 1545.918252\n",
      "iteration 100 / 2000: loss 208.247885\n",
      "iteration 200 / 2000: loss 29.666545\n",
      "iteration 300 / 2000: loss 5.812611\n",
      "iteration 400 / 2000: loss 2.623533\n",
      "iteration 500 / 2000: loss 2.261439\n",
      "iteration 600 / 2000: loss 2.143110\n",
      "iteration 700 / 2000: loss 2.149253\n",
      "iteration 800 / 2000: loss 2.118340\n",
      "iteration 900 / 2000: loss 2.113872\n",
      "iteration 1000 / 2000: loss 2.157393\n",
      "iteration 1100 / 2000: loss 2.143105\n",
      "iteration 1200 / 2000: loss 2.105040\n",
      "iteration 1300 / 2000: loss 2.128099\n",
      "iteration 1400 / 2000: loss 2.107545\n",
      "iteration 1500 / 2000: loss 2.122114\n",
      "iteration 1600 / 2000: loss 2.091484\n",
      "iteration 1700 / 2000: loss 2.104635\n",
      "iteration 1800 / 2000: loss 2.135476\n",
      "iteration 1900 / 2000: loss 2.118492\n",
      "iteration 0 / 2000: loss 771.562648\n",
      "iteration 100 / 2000: loss 6.857324\n",
      "iteration 200 / 2000: loss 2.130928\n",
      "iteration 300 / 2000: loss 2.070834\n",
      "iteration 400 / 2000: loss 2.044698\n",
      "iteration 500 / 2000: loss 2.140599\n",
      "iteration 600 / 2000: loss 2.039740\n",
      "iteration 700 / 2000: loss 2.104537\n",
      "iteration 800 / 2000: loss 2.082923\n",
      "iteration 900 / 2000: loss 2.024020\n",
      "iteration 1000 / 2000: loss 2.112123\n",
      "iteration 1100 / 2000: loss 2.095274\n",
      "iteration 1200 / 2000: loss 2.043702\n",
      "iteration 1300 / 2000: loss 2.099524\n",
      "iteration 1400 / 2000: loss 2.132568\n",
      "iteration 1500 / 2000: loss 2.093002\n",
      "iteration 1600 / 2000: loss 2.123212\n",
      "iteration 1700 / 2000: loss 2.024233\n",
      "iteration 1800 / 2000: loss 2.063298\n",
      "iteration 1900 / 2000: loss 2.065577\n",
      "iteration 0 / 2000: loss 1529.243863\n",
      "iteration 100 / 2000: loss 2.225307\n",
      "iteration 200 / 2000: loss 2.126032\n",
      "iteration 300 / 2000: loss 2.167917\n",
      "iteration 400 / 2000: loss 2.162737\n",
      "iteration 500 / 2000: loss 2.176864\n",
      "iteration 600 / 2000: loss 2.166108\n",
      "iteration 700 / 2000: loss 2.195115\n",
      "iteration 800 / 2000: loss 2.131387\n",
      "iteration 900 / 2000: loss 2.195545\n",
      "iteration 1000 / 2000: loss 2.137564\n",
      "iteration 1100 / 2000: loss 2.088891\n",
      "iteration 1200 / 2000: loss 2.138106\n",
      "iteration 1300 / 2000: loss 2.172358\n",
      "iteration 1400 / 2000: loss 2.125787\n",
      "iteration 1500 / 2000: loss 2.158416\n",
      "iteration 1600 / 2000: loss 2.168557\n",
      "iteration 1700 / 2000: loss 2.162090\n",
      "iteration 1800 / 2000: loss 2.203586\n",
      "iteration 1900 / 2000: loss 2.152785\n",
      "lr 1.000000e-07 reg 2.500000e+04 train accuracy: 0.329531 val accuracy: 0.351000\n",
      "lr 1.000000e-07 reg 5.000000e+04 train accuracy: 0.305000 val accuracy: 0.323000\n",
      "lr 5.000000e-07 reg 2.500000e+04 train accuracy: 0.315735 val accuracy: 0.331000\n",
      "lr 5.000000e-07 reg 5.000000e+04 train accuracy: 0.309184 val accuracy: 0.314000\n",
      "best validation accuracy achieved during cross-validation: 0.351000\n"
     ]
    }
   ],
   "source": [
    "# Use the validation set to tune hyperparameters (regularization strength and\n",
    "# learning rate). You should experiment with different ranges for the learning\n",
    "# rates and regularization strengths; if you are careful you should be able to\n",
    "# get a classification accuracy of over 0.35 on the validation set.\n",
    "from cs231n.classifiers.linear_classifier  import Softmax\n",
    "results = {}\n",
    "best_val = -1\n",
    "best_softmax = None\n",
    "learning_rates = [1e-7, 5e-7]\n",
    "regularization_strengths = [2.5e4, 5e4]\n",
    "\n",
    "################################################################################\n",
    "# TODO:                                                                        #\n",
    "# Use the validation set to set the learning rate and regularization strength. #\n",
    "# This should be identical to the validation that you did for the SVM; save    #\n",
    "# the best trained softmax classifer in best_softmax.                          #\n",
    "################################################################################\n",
    "iters = 2000\n",
    "for lr in learning_rates:\n",
    "    for rs in regularization_strengths:\n",
    "        softmax = Softmax()\n",
    "        softmax.train(X_train, y_train, learning_rate=lr, reg=rs, num_iters=iters, verbose=True)\n",
    "        y_train_pred = softmax.predict(X_train)\n",
    "        acc_train = np.mean(y_train == y_train_pred)\n",
    "        y_val_pred = softmax.predict(X_val)\n",
    "        acc_val = np.mean(y_val == y_val_pred)\n",
    "        results[(lr, rs)] = (acc_train, acc_val)\n",
    "        \n",
    "        if best_val < acc_val:\n",
    "            best_val = acc_val\n",
    "            best_softmax = softmax\n",
    "################################################################################\n",
    "#                              END OF YOUR CODE                                #\n",
    "################################################################################\n",
    "    \n",
    "# Print out results.\n",
    "for lr, reg in sorted(results):\n",
    "    train_accuracy, val_accuracy = results[(lr, reg)]\n",
    "    print('lr %e reg %e train accuracy: %f val accuracy: %f' % (\n",
    "                lr, reg, train_accuracy, val_accuracy))\n",
    "    \n",
    "print('best validation accuracy achieved during cross-validation: %f' % best_val)"
   ]
  },
  {
   "cell_type": "code",
   "execution_count": 16,
   "metadata": {},
   "outputs": [
    {
     "name": "stdout",
     "output_type": "stream",
     "text": [
      "softmax on raw pixels final test set accuracy: 0.339000\n"
     ]
    }
   ],
   "source": [
    "# evaluate on test set\n",
    "# Evaluate the best softmax on test set\n",
    "y_test_pred = best_softmax.predict(X_test)\n",
    "test_accuracy = np.mean(y_test == y_test_pred)\n",
    "print('softmax on raw pixels final test set accuracy: %f' % (test_accuracy, ))"
   ]
  },
  {
   "cell_type": "code",
   "execution_count": 17,
   "metadata": {},
   "outputs": [
    {
     "data": {
      "image/png": "[encoded data removed]",
      "text/plain": [
       "<matplotlib.figure.Figure at 0x7f29e1756e50>"
      ]
     },
     "metadata": {},
     "output_type": "display_data"
    }
   ],
   "source": [
    "# Visualize the learned weights for each class\n",
    "w = best_softmax.W[:-1,:] # strip out the bias\n",
    "w = w.reshape(32, 32, 3, 10)\n",
    "\n",
    "w_min, w_max = np.min(w), np.max(w)\n",
    "\n",
    "classes = ['plane', 'car', 'bird', 'cat', 'deer', 'dog', 'frog', 'horse', 'ship', 'truck']\n",
    "for i in range(10):\n",
    "    plt.subplot(2, 5, i + 1)\n",
    "    \n",
    "    # Rescale the weights to be between 0 and 255\n",
    "    wimg = 255.0 * (w[:, :, :, i].squeeze() - w_min) / (w_max - w_min)\n",
    "    plt.imshow(wimg.astype('uint8'))\n",
    "    plt.axis('off')\n",
    "    plt.title(classes[i])"
   ]
  },
  {
   "cell_type": "code",
   "execution_count": null,
   "metadata": {
    "collapsed": true
   },
   "outputs": [],
   "source": [
    ""
   ]
  }
 ],
 "metadata": {
  "kernelspec": {
   "display_name": "Python 2",
   "language": "python",
   "name": "python2"
  },
  "language_info": {
   "codemirror_mode": {
    "name": "ipython",
    "version": 2.0
   },
   "file_extension": ".py",
   "mimetype": "text/x-python",
   "name": "python",
   "nbconvert_exporter": "python",
   "pygments_lexer": "ipython2",
   "version": "2.7.12"
  }
 },
 "nbformat": 4,
 "nbformat_minor": 0
}